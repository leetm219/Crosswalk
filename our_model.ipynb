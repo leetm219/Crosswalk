{
  "nbformat": 4,
  "nbformat_minor": 0,
  "metadata": {
    "colab": {
      "provenance": [],
      "gpuType": "T4",
      "mount_file_id": "1vv7YZa2ghLglGVr4_745g0q5Q9PzhdHD",
      "authorship_tag": "ABX9TyM7/+6ki1L0Qj2A84yKZSxD",
      "include_colab_link": true
    },
    "kernelspec": {
      "name": "python3",
      "display_name": "Python 3"
    },
    "language_info": {
      "name": "python"
    },
    "accelerator": "GPU"
  },
  "cells": [
    {
      "cell_type": "markdown",
      "metadata": {
        "id": "view-in-github",
        "colab_type": "text"
      },
      "source": [
        "<a href=\"https://colab.research.google.com/github/leetm219/Crosswalk/blob/main/our_model.ipynb\" target=\"_parent\"><img src=\"https://colab.research.google.com/assets/colab-badge.svg\" alt=\"Open In Colab\"/></a>"
      ]
    },
    {
      "cell_type": "code",
      "execution_count": 1,
      "metadata": {
        "id": "8YLXKW_E2hpf"
      },
      "outputs": [],
      "source": [
        "# 두 가지 카테고리 분류\n",
        "# zzllrr imagergeek 다운로드\n",
        "# 수집하고 싶은 이미지 검색\n",
        "# 우측 상단 아이콘 클릭 -> Go 버튼 누른후 화면 전환\n",
        "# 필요 없는 이미지, 아이콘 파일 클릭해서 제거\n",
        "# rename 버튼 클릭후 prefix버튼 클릭 이름 명명 규칙 수정\n",
        "# 수정한 이미지 이름 preview 버튼 클릭후 반영 확인\n",
        "# save 누른 후 수집 대기 -> 수집 완료 후\n",
        "# 해당 카테고리 폴더 생성후 모두 저장\n",
        "# 상위 폴더 생성후 카테고리 폴더를 모두 넣기\n",
        "# 상위 폴더 압축 -> our_dataset.zip\n",
        "# carload and crosswalk\n",
        "# 최근 여러 나라에서는 횡단보도 앞에서 일단 정지한다.\n",
        "# 하지만 한국에서는 빨강불에만 정지한다. 이에 발생하는 사고를 방지하기위해 횡단보도를 찾는 모델을 개발한다.\n",
        "\n",
        "# 목표 성능 90%\n",
        "# 현재 89.8% > HT\n",
        "# 현재 85%\n",
        "# 1. DATA\n",
        "# 2. Model 교체 혹은 확장\n",
        "# 3. HT\n"
      ]
    },
    {
      "cell_type": "code",
      "source": [
        "# # drive에 압축파일 업로드 하고\n",
        "# # 아래 코드 실행\n",
        "# !unzip /content/drive/MyDrive/our_dataset.zip"
      ],
      "metadata": {
        "id": "iWe32-OR24Yy",
        "colab": {
          "base_uri": "https://localhost:8080/"
        },
        "outputId": "3cfea789-f137-4df4-9417-20d6d413f3db"
      },
      "execution_count": 2,
      "outputs": [
        {
          "output_type": "stream",
          "name": "stdout",
          "text": [
            "Archive:  /content/drive/MyDrive/our_dataset.zip\n",
            "replace carload/carload-001.jpeg? [y]es, [n]o, [A]ll, [N]one, [r]ename: "
          ]
        }
      ]
    },
    {
      "cell_type": "code",
      "source": [
        "# 파일을 접근 -> 메모리에 파일을 올려야 -> 모든 파일의 경로가 필요\n",
        "from glob import glob\n",
        "# mother_path = '/content/chexpert/train'\n",
        "# dataset 폴더가 없는 상태에서 풀렸다면\n",
        "mother_path = '/content/'\n",
        "glob(mother_path + '/*/*')"
      ],
      "metadata": {
        "id": "tk7as99Z2uqs"
      },
      "execution_count": null,
      "outputs": []
    },
    {
      "cell_type": "code",
      "source": [
        "import os\n",
        "a = '/content'\n",
        "b = 'test'\n",
        "os.path.join(a,b) # = a + '/' + b 리눅스, 맥, window"
      ],
      "metadata": {
        "colab": {
          "base_uri": "https://localhost:8080/",
          "height": 35
        },
        "id": "GF55VH554CBL",
        "outputId": "15a5b49b-4c1e-4e83-b478-06455d22343b"
      },
      "execution_count": 4,
      "outputs": [
        {
          "output_type": "execute_result",
          "data": {
            "text/plain": [
              "'/content/test'"
            ],
            "application/vnd.google.colaboratory.intrinsic+json": {
              "type": "string"
            }
          },
          "metadata": {},
          "execution_count": 4
        }
      ]
    },
    {
      "cell_type": "code",
      "source": [
        "from PIL import Image\n",
        "import numpy as np"
      ],
      "metadata": {
        "id": "PZ4O_1HZ6cqd"
      },
      "execution_count": 5,
      "outputs": []
    },
    {
      "cell_type": "code",
      "source": [
        "folder_list = ['carload', 'crosswalk']\n",
        "train = []\n",
        "label = []\n",
        "for idx, folder_name in enumerate(folder_list):\n",
        "    folder = os.path.join(mother_path, folder_name)\n",
        "    all_files_path = glob(folder + '/*')\n",
        "    for k, file_path in enumerate(all_files_path):\n",
        "        # 파일 불러오기\n",
        "        img = Image.open(file_path)\n",
        "        # 이미지 파일 전처리\n",
        "        img = img.resize((128,128), Image.BILINEAR)\n",
        "        img = img.convert('L')\n",
        "        np_img = np.array(img)\n",
        "        train.append(np_img)\n",
        "        label.append(idx)\n",
        "        if k % 10 == 0:\n",
        "            print(f'{k}/{len(all_files_path)}')\n",
        "np_train = np.array(train)\n",
        "np_train = np.expand_dims(np_train, axis=-1)\n",
        "np_label = np.array(label)"
      ],
      "metadata": {
        "id": "2hKae1uK3cK5"
      },
      "execution_count": null,
      "outputs": []
    },
    {
      "cell_type": "code",
      "source": [
        "print(np.bincount(np_label))\n",
        "print(np_train.shape)\n",
        "# np.save()"
      ],
      "metadata": {
        "colab": {
          "base_uri": "https://localhost:8080/"
        },
        "id": "VdctMXpl9H3y",
        "outputId": "3cdd93d5-9143-42d8-9b31-311c7dd09551"
      },
      "execution_count": 29,
      "outputs": [
        {
          "output_type": "stream",
          "name": "stdout",
          "text": [
            "[ 501 1582]\n",
            "(2083, 128, 128, 1)\n"
          ]
        }
      ]
    },
    {
      "cell_type": "code",
      "source": [
        "from sklearn.model_selection import train_test_split\n",
        "x_train, x_test, y_train, y_test = train_test_split(np_train, np_label, test_size=0.2)\n",
        "print(x_train.shape,x_test.shape,y_train.shape,y_test.shape)"
      ],
      "metadata": {
        "id": "_x5EIOjf9bNT",
        "colab": {
          "base_uri": "https://localhost:8080/"
        },
        "outputId": "dcdc4f35-de67-4e55-dba5-80404c879f39"
      },
      "execution_count": 30,
      "outputs": [
        {
          "output_type": "stream",
          "name": "stdout",
          "text": [
            "(1666, 128, 128, 1) (417, 128, 128, 1) (1666,) (417,)\n"
          ]
        }
      ]
    },
    {
      "cell_type": "code",
      "source": [
        "# xy = (x_train,x_test,y_train,y_test)\n",
        "# np.save('preprocessed.npy',xy)\n",
        "# np.load('preprocessed.npy')"
      ],
      "metadata": {
        "id": "xBJY4iO9-Jj3"
      },
      "execution_count": 9,
      "outputs": []
    },
    {
      "cell_type": "code",
      "source": [
        "x_train = x_train / 255.\n",
        "x_test = x_test / 255."
      ],
      "metadata": {
        "id": "CWDi9nWP_jtx"
      },
      "execution_count": 31,
      "outputs": []
    },
    {
      "cell_type": "code",
      "source": [
        "import tensorflow as tf\n",
        "from tensorflow.keras import layers, models"
      ],
      "metadata": {
        "id": "v1ZUQ9mgTr4r"
      },
      "execution_count": 32,
      "outputs": []
    },
    {
      "cell_type": "code",
      "source": [
        "input_layer = layers.Input(shape=(128, 128, 1), name='start layer')\n",
        "tower_1_1 = layers.Conv2D(64, kernel_size=(1,1), padding='same', strides=(1,1), activation='relu', name='tower_1_1')(input_layer)\n",
        "tower_1_2_1= layers.Conv2D(64, kernel_size=(1,1), padding='same', strides=(1,1), activation='relu', name='tower_1_2_1')(input_layer)\n",
        "tower_1_2_2= layers.Conv2D(64, kernel_size=(3,3), padding='same', strides=(1,1), activation='relu', name = 'tower_1_2_2')(tower_1_2_1)\n",
        "tower_1_3_1= layers.Conv2D(64, kernel_size=(1,1), padding='same', strides=(1,1), activation='relu', name = 'tower_1_3_1')(input_layer)\n",
        "tower_1_3_2= layers.Conv2D(64, kernel_size=(5,5), padding='same', strides=(1,1), activation='relu', name = 'tower_1_3_2')(tower_1_3_1)\n",
        "tower_1_4_1= layers.MaxPool2D(pool_size=(3,3), strides=(1,1), padding='same', name = 'tower_1_4_1')(input_layer)\n",
        "tower_1_4_2= layers.Conv2D(64, kernel_size=(1,1), padding='same', strides=(1,1), activation='relu', name = 'tower_1_4_2')(tower_1_4_1)\n",
        "concat_layer_1 = layers.concatenate([tower_1_1,tower_1_2_2,tower_1_3_2,tower_1_4_2],axis=3)\n",
        "concat_layer_1 = layers.MaxPool2D(pool_size=(3,3), strides=(2,2), padding='valid')(concat_layer_1)\n",
        "\n",
        "tower_2_1 = layers.Conv2D(120, kernel_size=(1,1), padding='same', strides=(1,1), activation='relu', name='tower_2_1')(concat_layer_1)\n",
        "tower_2_2_1= layers.Conv2D(120, kernel_size=(1,1), padding='same', strides=(1,1), activation='relu', name='tower_2_2_1')(concat_layer_1)\n",
        "tower_2_2_2= layers.Conv2D(120, kernel_size=(3,3), padding='same', strides=(1,1), activation='relu', name = 'tower_2_2_2')(tower_2_2_1)\n",
        "tower_2_3_1= layers.Conv2D(120, kernel_size=(1,1), padding='same', strides=(1,1), activation='relu', name = 'tower_2_3_1')(concat_layer_1)\n",
        "tower_2_3_2= layers.Conv2D(120, kernel_size=(5,5), padding='same', strides=(1,1), activation='relu', name = 'tower_2_3_2')(tower_2_3_1)\n",
        "tower_2_4_1= layers.MaxPool2D(pool_size=(3,3), strides=(1,1), padding='same', name = 'tower_2_4_1')(concat_layer_1)\n",
        "tower_2_4_2= layers.Conv2D(120, kernel_size=(1,1), padding='same', strides=(1,1), activation='relu', name = 'tower_2_4_2')(tower_2_4_1)\n",
        "concat_layer_2 = layers.concatenate([tower_2_1,tower_2_2_2,tower_2_3_2,tower_2_4_2],axis=3)\n",
        "concat_layer_2 = layers.MaxPool2D(pool_size=(3,3) , strides=(2,2), padding='valid')(concat_layer_2)\n",
        "last_avg_pool = layers.AveragePooling2D(pool_size=(31,31) , strides=(1,1), padding='valid')(concat_layer_2)\n",
        "flat_layaer = layers.Flatten()(last_avg_pool)\n",
        "output_layer = layers.Dense(1, activation='sigmoid')(flat_layaer)\n",
        "\n",
        "# 변경 포인트 input, lastavg_pool,output_layer\n",
        "model = models.Model(input_layer,output_layer)\n",
        "model.summary()\n"
      ],
      "metadata": {
        "colab": {
          "base_uri": "https://localhost:8080/"
        },
        "id": "se12M4H_Tpmo",
        "outputId": "775cc3d7-0b66-4570-dadf-29e73d141987"
      },
      "execution_count": 33,
      "outputs": [
        {
          "output_type": "stream",
          "name": "stdout",
          "text": [
            "Model: \"model_2\"\n",
            "__________________________________________________________________________________________________\n",
            " Layer (type)                Output Shape                 Param #   Connected to                  \n",
            "==================================================================================================\n",
            " start layer (InputLayer)    [(None, 128, 128, 1)]        0         []                            \n",
            "                                                                                                  \n",
            " tower_1_2_1 (Conv2D)        (None, 128, 128, 64)         128       ['start layer[0][0]']         \n",
            "                                                                                                  \n",
            " tower_1_3_1 (Conv2D)        (None, 128, 128, 64)         128       ['start layer[0][0]']         \n",
            "                                                                                                  \n",
            " tower_1_4_1 (MaxPooling2D)  (None, 128, 128, 1)          0         ['start layer[0][0]']         \n",
            "                                                                                                  \n",
            " tower_1_1 (Conv2D)          (None, 128, 128, 64)         128       ['start layer[0][0]']         \n",
            "                                                                                                  \n",
            " tower_1_2_2 (Conv2D)        (None, 128, 128, 64)         36928     ['tower_1_2_1[0][0]']         \n",
            "                                                                                                  \n",
            " tower_1_3_2 (Conv2D)        (None, 128, 128, 64)         102464    ['tower_1_3_1[0][0]']         \n",
            "                                                                                                  \n",
            " tower_1_4_2 (Conv2D)        (None, 128, 128, 64)         128       ['tower_1_4_1[0][0]']         \n",
            "                                                                                                  \n",
            " concatenate_4 (Concatenate  (None, 128, 128, 256)        0         ['tower_1_1[0][0]',           \n",
            " )                                                                   'tower_1_2_2[0][0]',         \n",
            "                                                                     'tower_1_3_2[0][0]',         \n",
            "                                                                     'tower_1_4_2[0][0]']         \n",
            "                                                                                                  \n",
            " max_pooling2d_4 (MaxPoolin  (None, 63, 63, 256)          0         ['concatenate_4[0][0]']       \n",
            " g2D)                                                                                             \n",
            "                                                                                                  \n",
            " tower_2_2_1 (Conv2D)        (None, 63, 63, 120)          30840     ['max_pooling2d_4[0][0]']     \n",
            "                                                                                                  \n",
            " tower_2_3_1 (Conv2D)        (None, 63, 63, 120)          30840     ['max_pooling2d_4[0][0]']     \n",
            "                                                                                                  \n",
            " tower_2_4_1 (MaxPooling2D)  (None, 63, 63, 256)          0         ['max_pooling2d_4[0][0]']     \n",
            "                                                                                                  \n",
            " tower_2_1 (Conv2D)          (None, 63, 63, 120)          30840     ['max_pooling2d_4[0][0]']     \n",
            "                                                                                                  \n",
            " tower_2_2_2 (Conv2D)        (None, 63, 63, 120)          129720    ['tower_2_2_1[0][0]']         \n",
            "                                                                                                  \n",
            " tower_2_3_2 (Conv2D)        (None, 63, 63, 120)          360120    ['tower_2_3_1[0][0]']         \n",
            "                                                                                                  \n",
            " tower_2_4_2 (Conv2D)        (None, 63, 63, 120)          30840     ['tower_2_4_1[0][0]']         \n",
            "                                                                                                  \n",
            " concatenate_5 (Concatenate  (None, 63, 63, 480)          0         ['tower_2_1[0][0]',           \n",
            " )                                                                   'tower_2_2_2[0][0]',         \n",
            "                                                                     'tower_2_3_2[0][0]',         \n",
            "                                                                     'tower_2_4_2[0][0]']         \n",
            "                                                                                                  \n",
            " max_pooling2d_5 (MaxPoolin  (None, 31, 31, 480)          0         ['concatenate_5[0][0]']       \n",
            " g2D)                                                                                             \n",
            "                                                                                                  \n",
            " average_pooling2d_2 (Avera  (None, 1, 1, 480)            0         ['max_pooling2d_5[0][0]']     \n",
            " gePooling2D)                                                                                     \n",
            "                                                                                                  \n",
            " flatten_2 (Flatten)         (None, 480)                  0         ['average_pooling2d_2[0][0]'] \n",
            "                                                                                                  \n",
            " dense_2 (Dense)             (None, 1)                    481       ['flatten_2[0][0]']           \n",
            "                                                                                                  \n",
            "==================================================================================================\n",
            "Total params: 753585 (2.87 MB)\n",
            "Trainable params: 753585 (2.87 MB)\n",
            "Non-trainable params: 0 (0.00 Byte)\n",
            "__________________________________________________________________________________________________\n"
          ]
        }
      ]
    },
    {
      "cell_type": "code",
      "source": [
        "!mkdir tensorboard_log"
      ],
      "metadata": {
        "colab": {
          "base_uri": "https://localhost:8080/"
        },
        "id": "Gc_-lAgwWYtA",
        "outputId": "471f8750-be8c-49ae-96c5-a540350c8d96"
      },
      "execution_count": 22,
      "outputs": [
        {
          "output_type": "stream",
          "name": "stdout",
          "text": [
            "mkdir: cannot create directory ‘tensorboard_log’: File exists\n"
          ]
        }
      ]
    },
    {
      "cell_type": "code",
      "source": [
        "model.compile(loss='binary_crossentropy', optimizer='adam', metrics=['accuracy'])\n",
        "tb = tf.keras.callbacks.TensorBoard(log_dir='/content/tensorboad_log', histogram_freq=1)\n",
        "\n",
        "model.fit(x_train, y_train, validation_data=(x_test,y_test), epochs=10, callbacks=[tb])"
      ],
      "metadata": {
        "colab": {
          "base_uri": "https://localhost:8080/"
        },
        "id": "KTLy63MNWVOK",
        "outputId": "1b340d05-dc30-4f77-b598-b929209ea4f2"
      },
      "execution_count": 34,
      "outputs": [
        {
          "output_type": "stream",
          "name": "stdout",
          "text": [
            "Epoch 1/10\n",
            "53/53 [==============================] - 17s 250ms/step - loss: 0.5444 - accuracy: 0.7545 - val_loss: 0.5586 - val_accuracy: 0.7506\n",
            "Epoch 2/10\n",
            "53/53 [==============================] - 13s 252ms/step - loss: 0.5337 - accuracy: 0.7617 - val_loss: 0.5916 - val_accuracy: 0.7506\n",
            "Epoch 3/10\n",
            "53/53 [==============================] - 13s 242ms/step - loss: 0.5374 - accuracy: 0.7617 - val_loss: 0.5517 - val_accuracy: 0.7506\n",
            "Epoch 4/10\n",
            "53/53 [==============================] - 13s 249ms/step - loss: 0.5263 - accuracy: 0.7617 - val_loss: 0.5554 - val_accuracy: 0.7506\n",
            "Epoch 5/10\n",
            "53/53 [==============================] - 13s 240ms/step - loss: 0.5194 - accuracy: 0.7617 - val_loss: 0.6815 - val_accuracy: 0.7506\n",
            "Epoch 6/10\n",
            "53/53 [==============================] - 13s 247ms/step - loss: 0.5245 - accuracy: 0.7617 - val_loss: 0.5338 - val_accuracy: 0.7506\n",
            "Epoch 7/10\n",
            "53/53 [==============================] - 13s 247ms/step - loss: 0.5169 - accuracy: 0.7617 - val_loss: 0.5270 - val_accuracy: 0.7506\n",
            "Epoch 8/10\n",
            "53/53 [==============================] - 13s 241ms/step - loss: 0.5040 - accuracy: 0.7617 - val_loss: 0.5497 - val_accuracy: 0.7506\n",
            "Epoch 9/10\n",
            "53/53 [==============================] - 13s 249ms/step - loss: 0.4970 - accuracy: 0.7629 - val_loss: 0.5300 - val_accuracy: 0.7506\n",
            "Epoch 10/10\n",
            "53/53 [==============================] - 13s 241ms/step - loss: 0.4919 - accuracy: 0.7647 - val_loss: 0.5606 - val_accuracy: 0.7506\n"
          ]
        },
        {
          "output_type": "execute_result",
          "data": {
            "text/plain": [
              "<keras.src.callbacks.History at 0x7ace68263d90>"
            ]
          },
          "metadata": {},
          "execution_count": 34
        }
      ]
    },
    {
      "cell_type": "code",
      "source": [
        "from google.colab import files\n",
        "f = files.upload()"
      ],
      "metadata": {
        "colab": {
          "base_uri": "https://localhost:8080/",
          "height": 77
        },
        "id": "v1FPKSrcYUGz",
        "outputId": "5d7a02ba-7b92-4806-a668-7ab9f66930f2"
      },
      "execution_count": 40,
      "outputs": [
        {
          "output_type": "display_data",
          "data": {
            "text/plain": [
              "<IPython.core.display.HTML object>"
            ],
            "text/html": [
              "\n",
              "     <input type=\"file\" id=\"files-ca23ec9a-9fa2-4b26-9f9a-a17aa90bed4f\" name=\"files[]\" multiple disabled\n",
              "        style=\"border:none\" />\n",
              "     <output id=\"result-ca23ec9a-9fa2-4b26-9f9a-a17aa90bed4f\">\n",
              "      Upload widget is only available when the cell has been executed in the\n",
              "      current browser session. Please rerun this cell to enable.\n",
              "      </output>\n",
              "      <script>// Copyright 2017 Google LLC\n",
              "//\n",
              "// Licensed under the Apache License, Version 2.0 (the \"License\");\n",
              "// you may not use this file except in compliance with the License.\n",
              "// You may obtain a copy of the License at\n",
              "//\n",
              "//      http://www.apache.org/licenses/LICENSE-2.0\n",
              "//\n",
              "// Unless required by applicable law or agreed to in writing, software\n",
              "// distributed under the License is distributed on an \"AS IS\" BASIS,\n",
              "// WITHOUT WARRANTIES OR CONDITIONS OF ANY KIND, either express or implied.\n",
              "// See the License for the specific language governing permissions and\n",
              "// limitations under the License.\n",
              "\n",
              "/**\n",
              " * @fileoverview Helpers for google.colab Python module.\n",
              " */\n",
              "(function(scope) {\n",
              "function span(text, styleAttributes = {}) {\n",
              "  const element = document.createElement('span');\n",
              "  element.textContent = text;\n",
              "  for (const key of Object.keys(styleAttributes)) {\n",
              "    element.style[key] = styleAttributes[key];\n",
              "  }\n",
              "  return element;\n",
              "}\n",
              "\n",
              "// Max number of bytes which will be uploaded at a time.\n",
              "const MAX_PAYLOAD_SIZE = 100 * 1024;\n",
              "\n",
              "function _uploadFiles(inputId, outputId) {\n",
              "  const steps = uploadFilesStep(inputId, outputId);\n",
              "  const outputElement = document.getElementById(outputId);\n",
              "  // Cache steps on the outputElement to make it available for the next call\n",
              "  // to uploadFilesContinue from Python.\n",
              "  outputElement.steps = steps;\n",
              "\n",
              "  return _uploadFilesContinue(outputId);\n",
              "}\n",
              "\n",
              "// This is roughly an async generator (not supported in the browser yet),\n",
              "// where there are multiple asynchronous steps and the Python side is going\n",
              "// to poll for completion of each step.\n",
              "// This uses a Promise to block the python side on completion of each step,\n",
              "// then passes the result of the previous step as the input to the next step.\n",
              "function _uploadFilesContinue(outputId) {\n",
              "  const outputElement = document.getElementById(outputId);\n",
              "  const steps = outputElement.steps;\n",
              "\n",
              "  const next = steps.next(outputElement.lastPromiseValue);\n",
              "  return Promise.resolve(next.value.promise).then((value) => {\n",
              "    // Cache the last promise value to make it available to the next\n",
              "    // step of the generator.\n",
              "    outputElement.lastPromiseValue = value;\n",
              "    return next.value.response;\n",
              "  });\n",
              "}\n",
              "\n",
              "/**\n",
              " * Generator function which is called between each async step of the upload\n",
              " * process.\n",
              " * @param {string} inputId Element ID of the input file picker element.\n",
              " * @param {string} outputId Element ID of the output display.\n",
              " * @return {!Iterable<!Object>} Iterable of next steps.\n",
              " */\n",
              "function* uploadFilesStep(inputId, outputId) {\n",
              "  const inputElement = document.getElementById(inputId);\n",
              "  inputElement.disabled = false;\n",
              "\n",
              "  const outputElement = document.getElementById(outputId);\n",
              "  outputElement.innerHTML = '';\n",
              "\n",
              "  const pickedPromise = new Promise((resolve) => {\n",
              "    inputElement.addEventListener('change', (e) => {\n",
              "      resolve(e.target.files);\n",
              "    });\n",
              "  });\n",
              "\n",
              "  const cancel = document.createElement('button');\n",
              "  inputElement.parentElement.appendChild(cancel);\n",
              "  cancel.textContent = 'Cancel upload';\n",
              "  const cancelPromise = new Promise((resolve) => {\n",
              "    cancel.onclick = () => {\n",
              "      resolve(null);\n",
              "    };\n",
              "  });\n",
              "\n",
              "  // Wait for the user to pick the files.\n",
              "  const files = yield {\n",
              "    promise: Promise.race([pickedPromise, cancelPromise]),\n",
              "    response: {\n",
              "      action: 'starting',\n",
              "    }\n",
              "  };\n",
              "\n",
              "  cancel.remove();\n",
              "\n",
              "  // Disable the input element since further picks are not allowed.\n",
              "  inputElement.disabled = true;\n",
              "\n",
              "  if (!files) {\n",
              "    return {\n",
              "      response: {\n",
              "        action: 'complete',\n",
              "      }\n",
              "    };\n",
              "  }\n",
              "\n",
              "  for (const file of files) {\n",
              "    const li = document.createElement('li');\n",
              "    li.append(span(file.name, {fontWeight: 'bold'}));\n",
              "    li.append(span(\n",
              "        `(${file.type || 'n/a'}) - ${file.size} bytes, ` +\n",
              "        `last modified: ${\n",
              "            file.lastModifiedDate ? file.lastModifiedDate.toLocaleDateString() :\n",
              "                                    'n/a'} - `));\n",
              "    const percent = span('0% done');\n",
              "    li.appendChild(percent);\n",
              "\n",
              "    outputElement.appendChild(li);\n",
              "\n",
              "    const fileDataPromise = new Promise((resolve) => {\n",
              "      const reader = new FileReader();\n",
              "      reader.onload = (e) => {\n",
              "        resolve(e.target.result);\n",
              "      };\n",
              "      reader.readAsArrayBuffer(file);\n",
              "    });\n",
              "    // Wait for the data to be ready.\n",
              "    let fileData = yield {\n",
              "      promise: fileDataPromise,\n",
              "      response: {\n",
              "        action: 'continue',\n",
              "      }\n",
              "    };\n",
              "\n",
              "    // Use a chunked sending to avoid message size limits. See b/62115660.\n",
              "    let position = 0;\n",
              "    do {\n",
              "      const length = Math.min(fileData.byteLength - position, MAX_PAYLOAD_SIZE);\n",
              "      const chunk = new Uint8Array(fileData, position, length);\n",
              "      position += length;\n",
              "\n",
              "      const base64 = btoa(String.fromCharCode.apply(null, chunk));\n",
              "      yield {\n",
              "        response: {\n",
              "          action: 'append',\n",
              "          file: file.name,\n",
              "          data: base64,\n",
              "        },\n",
              "      };\n",
              "\n",
              "      let percentDone = fileData.byteLength === 0 ?\n",
              "          100 :\n",
              "          Math.round((position / fileData.byteLength) * 100);\n",
              "      percent.textContent = `${percentDone}% done`;\n",
              "\n",
              "    } while (position < fileData.byteLength);\n",
              "  }\n",
              "\n",
              "  // All done.\n",
              "  yield {\n",
              "    response: {\n",
              "      action: 'complete',\n",
              "    }\n",
              "  };\n",
              "}\n",
              "\n",
              "scope.google = scope.google || {};\n",
              "scope.google.colab = scope.google.colab || {};\n",
              "scope.google.colab._files = {\n",
              "  _uploadFiles,\n",
              "  _uploadFilesContinue,\n",
              "};\n",
              "})(self);\n",
              "</script> "
            ]
          },
          "metadata": {}
        },
        {
          "output_type": "stream",
          "name": "stdout",
          "text": [
            "Saving cross.jpg to cross.jpg\n"
          ]
        }
      ]
    },
    {
      "cell_type": "code",
      "source": [
        "test_file_name = list(f.keys())[0]"
      ],
      "metadata": {
        "id": "Hprph1trYVgk"
      },
      "execution_count": 41,
      "outputs": []
    },
    {
      "cell_type": "code",
      "source": [
        "img = Image.open(test_file_name)\n",
        "img = img.resize((128,128), Image.BILINEAR)\n",
        "img = img.convert('L')\n",
        "data = np.asarray(img)\n",
        "data = np.expand_dims(data, axis=-1)\n",
        "test_image_tensor = np.array([data])\n",
        "test_image_tensor = test_image_tensor/255.\n",
        "test_image_tensor.shape"
      ],
      "metadata": {
        "colab": {
          "base_uri": "https://localhost:8080/"
        },
        "id": "8c-41Ya3YrQA",
        "outputId": "23123b31-db69-4d1e-eb9e-22da84259563"
      },
      "execution_count": 42,
      "outputs": [
        {
          "output_type": "execute_result",
          "data": {
            "text/plain": [
              "(1, 128, 128, 1)"
            ]
          },
          "metadata": {},
          "execution_count": 42
        }
      ]
    },
    {
      "cell_type": "code",
      "source": [
        "result = model.predict(test_image_tensor)\n",
        "if result[0][0] > 0.5:\n",
        "    print(f'{folder_list[0]} 일 확률이 {result[0][0] * 100} % 입니다')\n",
        "else:\n",
        "    print(f'{folder_list[1]} 일 확률이 {(1-result[0][0]) * 100} % 입니다')"
      ],
      "metadata": {
        "colab": {
          "base_uri": "https://localhost:8080/"
        },
        "id": "JLhtQftiaVLw",
        "outputId": "471cc5fc-26d0-42e7-9eb7-898976b853b3"
      },
      "execution_count": 43,
      "outputs": [
        {
          "output_type": "stream",
          "name": "stdout",
          "text": [
            "1/1 [==============================] - 0s 18ms/step\n",
            "carload 일 확률이 66.76780581474304 % 입니다\n"
          ]
        }
      ]
    }
  ]
}